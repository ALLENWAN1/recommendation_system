{
 "cells": [
  {
   "cell_type": "code",
   "execution_count": 1,
   "metadata": {
    "collapsed": true
   },
   "outputs": [],
   "source": [
    "import numpy as np\n",
    "import pandas as pd"
   ]
  },
  {
   "cell_type": "code",
   "execution_count": 2,
   "metadata": {
    "collapsed": false
   },
   "outputs": [],
   "source": [
    "train_data = pd.read_csv(\"data/train_data.csv\",sep='\\t',header=None)\n",
    "songs = pd.read_csv(\"data/songs.csv\",sep='\\t',header=None)\n",
    "users = pd.read_csv(\"data/users.csv\",sep='\\t',header=None)\n",
    "test_data = pd.read_csv(\"data/test_data.csv\",sep='\\t',header=None)"
   ]
  },
  {
   "cell_type": "code",
   "execution_count": 3,
   "metadata": {
    "collapsed": false
   },
   "outputs": [],
   "source": [
    "train_data = train_data.rename(columns={train_data.columns[0]:\"user\",train_data.columns[1]:\"song\",train_data.columns[2]:\"number\"})\n",
    "test_data = test_data.rename(columns={test_data.columns[0]:\"user\",test_data.columns[1]:\"song\",test_data.columns[2]:\"number\"})\n",
    "songs = songs.rename(columns={songs.columns[0]:\"song\"})\n",
    "users = users.rename(columns={users.columns[0]:\"user\"})\n"
   ]
  },
  {
   "cell_type": "code",
   "execution_count": 4,
   "metadata": {
    "collapsed": false
   },
   "outputs": [],
   "source": [
    "users[\"user_id\"] = [\"user_\" +str(i) for i in range(5000)]\n",
    "songs[\"song_id\"] = [\"song_\" +str(i) for i in range(49564)]"
   ]
  },
  {
   "cell_type": "code",
   "execution_count": 46,
   "metadata": {
    "collapsed": false
   },
   "outputs": [
    {
     "data": {
      "text/plain": [
       "463"
      ]
     },
     "execution_count": 46,
     "metadata": {},
     "output_type": "execute_result"
    }
   ],
   "source": [
    "max(train_data.number)"
   ]
  },
  {
   "cell_type": "code",
   "execution_count": 5,
   "metadata": {
    "collapsed": false
   },
   "outputs": [],
   "source": [
    "def transformation(data, users, songs):\n",
    "    tmp =pd.merge(data,users,how='left',left_on=data.user, right_on=users.user)\n",
    "    tmp1 = pd.merge(tmp,songs,how='left',left_on=tmp.song, right_on=songs.song)\n",
    "    return tmp1[tmp1.columns[[4,6,2]]]"
   ]
  },
  {
   "cell_type": "code",
   "execution_count": 6,
   "metadata": {
    "collapsed": false
   },
   "outputs": [],
   "source": [
    "train_data = transformation(train_data,users,songs)\n",
    "test_data = transformation(test_data, users, songs)"
   ]
  },
  {
   "cell_type": "code",
   "execution_count": 7,
   "metadata": {
    "collapsed": false
   },
   "outputs": [],
   "source": [
    "n,m = len(users),len(songs)"
   ]
  },
  {
   "cell_type": "code",
   "execution_count": 8,
   "metadata": {
    "collapsed": false
   },
   "outputs": [],
   "source": [
    "matrix = np.zeros((n,m))"
   ]
  },
  {
   "cell_type": "code",
   "execution_count": null,
   "metadata": {
    "collapsed": false
   },
   "outputs": [],
   "source": []
  },
  {
   "cell_type": "code",
   "execution_count": 9,
   "metadata": {
    "collapsed": true
   },
   "outputs": [],
   "source": [
    "def to_matrix(data,matrix):\n",
    "    for r in train_data.iterrows():\n",
    "        tmp = r[1]\n",
    "        row = int(tmp[0].split(\"_\")[-1])\n",
    "        col = int(tmp[1].split(\"_\")[-1])\n",
    "        number = tmp[2]\n",
    "        matrix[row][col] = number\n",
    "    return matrix"
   ]
  },
  {
   "cell_type": "code",
   "execution_count": 10,
   "metadata": {
    "collapsed": false
   },
   "outputs": [],
   "source": [
    "V_train = to_matrix(train_data,matrix)"
   ]
  },
  {
   "cell_type": "code",
   "execution_count": 11,
   "metadata": {
    "collapsed": false
   },
   "outputs": [],
   "source": [
    "V_test = to_matrix(test_data, matrix)"
   ]
  },
  {
   "cell_type": "code",
   "execution_count": 53,
   "metadata": {
    "collapsed": false
   },
   "outputs": [
    {
     "data": {
      "text/plain": [
       "array([[1, 2, 2],\n",
       "       [2, 2, 5]])"
      ]
     },
     "execution_count": 53,
     "metadata": {},
     "output_type": "execute_result"
    }
   ],
   "source": [
    "x = np.array([[1,2,0],[-1,2,5]])\n",
    "x[x<1]=2\n",
    "x"
   ]
  },
  {
   "cell_type": "code",
   "execution_count": 12,
   "metadata": {
    "collapsed": false
   },
   "outputs": [],
   "source": [
    "def indicate(matrix):\n",
    "    index_row,index_col = np.nonzero(matrix)\n",
    "    M = np.zeros(matrix.shape)\n",
    "    for i in range(len(index_row)):\n",
    "        M[index_row[i]][index_col[i]] = 1\n",
    "    return M"
   ]
  },
  {
   "cell_type": "code",
   "execution_count": 54,
   "metadata": {
    "collapsed": false
   },
   "outputs": [],
   "source": [
    "def normalization(matrix, max_rating ):\n",
    "    matrix[matrix<0] = 0\n",
    "    matrix[matrix>max_rating] = max_rating\n",
    "    return matrix"
   ]
  },
  {
   "cell_type": "code",
   "execution_count": 57,
   "metadata": {
    "collapsed": false
   },
   "outputs": [],
   "source": [
    "def SVD_incremental(V_train,feature_number,iteration_number,regu = 0.02,max_rating =483, learning_rate = 0.05):\n",
    "    U = np.ones((n, feature_number))*0.01\n",
    "    M = np.ones((m, feature_number))*0.01\n",
    "    I = indicate(V_train)\n",
    "    for i in range(iteration_number):\n",
    "        MUL = np.dot(U,M.T)\n",
    "        MUL = normalization(MUL, max_rating)\n",
    "        tmp = np.multiply((V_train - MUL),I)\n",
    "        delta_U = []\n",
    "        delta_M = []\n",
    "        for i in range(n):\n",
    "            delta_U.append(np.sum(tmp[i]*M.T,axis=1))\n",
    "        delta_U= np.array(delta_U) - regu*U\n",
    "\n",
    "        for i in range(m):\n",
    "            delta_M.append(np.sum(tmp.T[i]*U.T,axis=1))\n",
    "        delta_M= np.array(delta_M) - regu*M\n",
    "        \n",
    "        \n",
    "        U = U + delta_U*learning_rate\n",
    "        M = M + delta_M *learning_rate\n",
    "        \n",
    "    return U,M"
   ]
  },
  {
   "cell_type": "code",
   "execution_count": null,
   "metadata": {
    "collapsed": false
   },
   "outputs": [],
   "source": []
  },
  {
   "cell_type": "code",
   "execution_count": 43,
   "metadata": {
    "collapsed": false
   },
   "outputs": [],
   "source": [
    "kkk = []\n",
    "for i in range(m):\n",
    "    kkk.append(np.sum(tmp.T[i]*U.T,axis=1))"
   ]
  },
  {
   "cell_type": "code",
   "execution_count": 45,
   "metadata": {
    "collapsed": false
   },
   "outputs": [
    {
     "data": {
      "text/plain": [
       "array([[ 0.019796,  0.019796],\n",
       "       [-0.0002  , -0.0002  ],\n",
       "       [-0.0002  , -0.0002  ],\n",
       "       ..., \n",
       "       [-0.0002  , -0.0002  ],\n",
       "       [-0.0002  , -0.0002  ],\n",
       "       [ 0.019798,  0.019798]])"
      ]
     },
     "execution_count": 45,
     "metadata": {},
     "output_type": "execute_result"
    }
   ],
   "source": [
    "kkk = np.array(kkk)\n",
    "kkk-0.02*M"
   ]
  },
  {
   "cell_type": "code",
   "execution_count": 354,
   "metadata": {
    "collapsed": false
   },
   "outputs": [
    {
     "data": {
      "text/plain": [
       "array([[23, 28, 33],\n",
       "       [47, 58, 69],\n",
       "       [ 8, 10, 12]])"
      ]
     },
     "execution_count": 354,
     "metadata": {},
     "output_type": "execute_result"
    }
   ],
   "source": [
    "tmp = y*x\n",
    "np.sum(tmp,axis=1)"
   ]
  },
  {
   "cell_type": "code",
   "execution_count": 319,
   "metadata": {
    "collapsed": false
   },
   "outputs": [
    {
     "data": {
      "text/plain": [
       "(array([ 2889,  9733, 11195, 11814, 13995, 14362, 19962, 22433, 23812,\n",
       "        32134, 33351, 36979]),)"
      ]
     },
     "execution_count": 319,
     "metadata": {},
     "output_type": "execute_result"
    }
   ],
   "source": [
    "np.nonzero(np.multiply(V_train,indicate(V_train))[0])"
   ]
  },
  {
   "cell_type": "code",
   "execution_count": null,
   "metadata": {
    "collapsed": true
   },
   "outputs": [],
   "source": []
  }
 ],
 "metadata": {
  "anaconda-cloud": {},
  "kernelspec": {
   "display_name": "Python [conda root]",
   "language": "python",
   "name": "conda-root-py"
  },
  "language_info": {
   "codemirror_mode": {
    "name": "ipython",
    "version": 2
   },
   "file_extension": ".py",
   "mimetype": "text/x-python",
   "name": "python",
   "nbconvert_exporter": "python",
   "pygments_lexer": "ipython2",
   "version": "2.7.12"
  }
 },
 "nbformat": 4,
 "nbformat_minor": 1
}
