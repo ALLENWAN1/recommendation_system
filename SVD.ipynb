{
 "cells": [
  {
   "cell_type": "code",
   "execution_count": 3,
   "metadata": {
    "collapsed": true
   },
   "outputs": [],
   "source": [
    "import numpy as np\n",
    "import pandas as pd"
   ]
  },
  {
   "cell_type": "code",
   "execution_count": 4,
   "metadata": {
    "collapsed": false
   },
   "outputs": [],
   "source": [
    "train_data = pd.read_csv(\"data/train_data.csv\",sep='\\t',header=None)\n",
    "songs = pd.read_csv(\"data/songs.csv\",sep='\\t',header=None)\n",
    "users = pd.read_csv(\"data/users.csv\",sep='\\t',header=None)\n",
    "test_data = pd.read_csv(\"data/test_data.csv\",sep='\\t',header=None)"
   ]
  },
  {
   "cell_type": "code",
   "execution_count": 5,
   "metadata": {
    "collapsed": false
   },
   "outputs": [],
   "source": [
    "train_data = train_data.rename(columns={train_data.columns[0]:\"user\",train_data.columns[1]:\"song\",train_data.columns[2]:\"number\"})\n",
    "test_data = test_data.rename(columns={test_data.columns[0]:\"user\",test_data.columns[1]:\"song\",test_data.columns[2]:\"number\"})\n",
    "songs = songs.rename(columns={songs.columns[0]:\"song\"})\n",
    "users = users.rename(columns={users.columns[0]:\"user\"})\n"
   ]
  },
  {
   "cell_type": "code",
   "execution_count": 6,
   "metadata": {
    "collapsed": false
   },
   "outputs": [],
   "source": [
    "users[\"user_id\"] = [\"user_\" +str(i) for i in range(5000)]\n",
    "songs[\"song_id\"] = [\"song_\" +str(i) for i in range(49564)]"
   ]
  },
  {
   "cell_type": "code",
   "execution_count": 7,
   "metadata": {
    "collapsed": false
   },
   "outputs": [
    {
     "data": {
      "text/plain": [
       "463"
      ]
     },
     "execution_count": 7,
     "metadata": {},
     "output_type": "execute_result"
    }
   ],
   "source": [
    "max(train_data.number)"
   ]
  },
  {
   "cell_type": "code",
   "execution_count": 8,
   "metadata": {
    "collapsed": false
   },
   "outputs": [],
   "source": [
    "def transformation(data, users, songs):\n",
    "    tmp =pd.merge(data,users,how='left',left_on=data.user, right_on=users.user)\n",
    "    tmp1 = pd.merge(tmp,songs,how='left',left_on=tmp.song, right_on=songs.song)\n",
    "    return tmp1[tmp1.columns[[4,6,2]]]"
   ]
  },
  {
   "cell_type": "code",
   "execution_count": 9,
   "metadata": {
    "collapsed": false
   },
   "outputs": [],
   "source": [
    "train_data = transformation(train_data,users,songs)\n",
    "test_data = transformation(test_data, users, songs)"
   ]
  },
  {
   "cell_type": "code",
   "execution_count": 10,
   "metadata": {
    "collapsed": false
   },
   "outputs": [],
   "source": [
    "n,m = len(users),len(songs)"
   ]
  },
  {
   "cell_type": "code",
   "execution_count": 11,
   "metadata": {
    "collapsed": false
   },
   "outputs": [],
   "source": [
    "matrix = np.zeros((n,m))"
   ]
  },
  {
   "cell_type": "code",
   "execution_count": 12,
   "metadata": {
    "collapsed": false
   },
   "outputs": [
    {
     "data": {
      "text/html": [
       "<div>\n",
       "<table border=\"1\" class=\"dataframe\">\n",
       "  <thead>\n",
       "    <tr style=\"text-align: right;\">\n",
       "      <th></th>\n",
       "      <th>user_id</th>\n",
       "      <th>song_id</th>\n",
       "      <th>number</th>\n",
       "    </tr>\n",
       "  </thead>\n",
       "  <tbody>\n",
       "    <tr>\n",
       "      <th>64934</th>\n",
       "      <td>user_0</td>\n",
       "      <td>song_6655</td>\n",
       "      <td>1</td>\n",
       "    </tr>\n",
       "    <tr>\n",
       "      <th>64935</th>\n",
       "      <td>user_0</td>\n",
       "      <td>song_48270</td>\n",
       "      <td>1</td>\n",
       "    </tr>\n",
       "    <tr>\n",
       "      <th>64936</th>\n",
       "      <td>user_0</td>\n",
       "      <td>song_42069</td>\n",
       "      <td>1</td>\n",
       "    </tr>\n",
       "    <tr>\n",
       "      <th>64937</th>\n",
       "      <td>user_0</td>\n",
       "      <td>song_45281</td>\n",
       "      <td>1</td>\n",
       "    </tr>\n",
       "    <tr>\n",
       "      <th>64938</th>\n",
       "      <td>user_0</td>\n",
       "      <td>song_23084</td>\n",
       "      <td>2</td>\n",
       "    </tr>\n",
       "    <tr>\n",
       "      <th>64939</th>\n",
       "      <td>user_0</td>\n",
       "      <td>song_19901</td>\n",
       "      <td>1</td>\n",
       "    </tr>\n",
       "    <tr>\n",
       "      <th>64940</th>\n",
       "      <td>user_0</td>\n",
       "      <td>song_21267</td>\n",
       "      <td>1</td>\n",
       "    </tr>\n",
       "    <tr>\n",
       "      <th>64941</th>\n",
       "      <td>user_0</td>\n",
       "      <td>song_37714</td>\n",
       "      <td>4</td>\n",
       "    </tr>\n",
       "    <tr>\n",
       "      <th>64942</th>\n",
       "      <td>user_0</td>\n",
       "      <td>song_7279</td>\n",
       "      <td>1</td>\n",
       "    </tr>\n",
       "    <tr>\n",
       "      <th>64943</th>\n",
       "      <td>user_0</td>\n",
       "      <td>song_13374</td>\n",
       "      <td>1</td>\n",
       "    </tr>\n",
       "    <tr>\n",
       "      <th>64944</th>\n",
       "      <td>user_0</td>\n",
       "      <td>song_39278</td>\n",
       "      <td>1</td>\n",
       "    </tr>\n",
       "    <tr>\n",
       "      <th>64945</th>\n",
       "      <td>user_0</td>\n",
       "      <td>song_31379</td>\n",
       "      <td>1</td>\n",
       "    </tr>\n",
       "  </tbody>\n",
       "</table>\n",
       "</div>"
      ],
      "text/plain": [
       "      user_id     song_id  number\n",
       "64934  user_0   song_6655       1\n",
       "64935  user_0  song_48270       1\n",
       "64936  user_0  song_42069       1\n",
       "64937  user_0  song_45281       1\n",
       "64938  user_0  song_23084       2\n",
       "64939  user_0  song_19901       1\n",
       "64940  user_0  song_21267       1\n",
       "64941  user_0  song_37714       4\n",
       "64942  user_0   song_7279       1\n",
       "64943  user_0  song_13374       1\n",
       "64944  user_0  song_39278       1\n",
       "64945  user_0  song_31379       1"
      ]
     },
     "execution_count": 12,
     "metadata": {},
     "output_type": "execute_result"
    }
   ],
   "source": [
    "test_data[test_data.user_id=='user_0']"
   ]
  },
  {
   "cell_type": "code",
   "execution_count": 13,
   "metadata": {
    "collapsed": false
   },
   "outputs": [
    {
     "data": {
      "text/html": [
       "<div>\n",
       "<table border=\"1\" class=\"dataframe\">\n",
       "  <thead>\n",
       "    <tr style=\"text-align: right;\">\n",
       "      <th></th>\n",
       "      <th>user_id</th>\n",
       "      <th>song_id</th>\n",
       "      <th>number</th>\n",
       "    </tr>\n",
       "  </thead>\n",
       "  <tbody>\n",
       "    <tr>\n",
       "      <th>62601</th>\n",
       "      <td>user_0</td>\n",
       "      <td>song_11814</td>\n",
       "      <td>1</td>\n",
       "    </tr>\n",
       "    <tr>\n",
       "      <th>62602</th>\n",
       "      <td>user_0</td>\n",
       "      <td>song_36979</td>\n",
       "      <td>1</td>\n",
       "    </tr>\n",
       "    <tr>\n",
       "      <th>62603</th>\n",
       "      <td>user_0</td>\n",
       "      <td>song_32134</td>\n",
       "      <td>2</td>\n",
       "    </tr>\n",
       "    <tr>\n",
       "      <th>62604</th>\n",
       "      <td>user_0</td>\n",
       "      <td>song_9733</td>\n",
       "      <td>1</td>\n",
       "    </tr>\n",
       "    <tr>\n",
       "      <th>62605</th>\n",
       "      <td>user_0</td>\n",
       "      <td>song_2889</td>\n",
       "      <td>1</td>\n",
       "    </tr>\n",
       "    <tr>\n",
       "      <th>62606</th>\n",
       "      <td>user_0</td>\n",
       "      <td>song_23812</td>\n",
       "      <td>2</td>\n",
       "    </tr>\n",
       "    <tr>\n",
       "      <th>62607</th>\n",
       "      <td>user_0</td>\n",
       "      <td>song_33351</td>\n",
       "      <td>1</td>\n",
       "    </tr>\n",
       "    <tr>\n",
       "      <th>62608</th>\n",
       "      <td>user_0</td>\n",
       "      <td>song_11195</td>\n",
       "      <td>2</td>\n",
       "    </tr>\n",
       "    <tr>\n",
       "      <th>62609</th>\n",
       "      <td>user_0</td>\n",
       "      <td>song_22433</td>\n",
       "      <td>1</td>\n",
       "    </tr>\n",
       "    <tr>\n",
       "      <th>62610</th>\n",
       "      <td>user_0</td>\n",
       "      <td>song_14362</td>\n",
       "      <td>1</td>\n",
       "    </tr>\n",
       "    <tr>\n",
       "      <th>62611</th>\n",
       "      <td>user_0</td>\n",
       "      <td>song_19962</td>\n",
       "      <td>1</td>\n",
       "    </tr>\n",
       "    <tr>\n",
       "      <th>62612</th>\n",
       "      <td>user_0</td>\n",
       "      <td>song_13995</td>\n",
       "      <td>1</td>\n",
       "    </tr>\n",
       "  </tbody>\n",
       "</table>\n",
       "</div>"
      ],
      "text/plain": [
       "      user_id     song_id  number\n",
       "62601  user_0  song_11814       1\n",
       "62602  user_0  song_36979       1\n",
       "62603  user_0  song_32134       2\n",
       "62604  user_0   song_9733       1\n",
       "62605  user_0   song_2889       1\n",
       "62606  user_0  song_23812       2\n",
       "62607  user_0  song_33351       1\n",
       "62608  user_0  song_11195       2\n",
       "62609  user_0  song_22433       1\n",
       "62610  user_0  song_14362       1\n",
       "62611  user_0  song_19962       1\n",
       "62612  user_0  song_13995       1"
      ]
     },
     "execution_count": 13,
     "metadata": {},
     "output_type": "execute_result"
    }
   ],
   "source": [
    "train_data[train_data.user_id==\"user_0\"]"
   ]
  },
  {
   "cell_type": "code",
   "execution_count": 14,
   "metadata": {
    "collapsed": true
   },
   "outputs": [],
   "source": [
    "def to_matrix(data,matrix):\n",
    "    for r in train_data.iterrows():\n",
    "        tmp = r[1]\n",
    "        row = int(tmp[0].split(\"_\")[-1])\n",
    "        col = int(tmp[1].split(\"_\")[-1])\n",
    "        number = tmp[2]\n",
    "        matrix[row][col] = number\n",
    "    return matrix"
   ]
  },
  {
   "cell_type": "code",
   "execution_count": 15,
   "metadata": {
    "collapsed": false
   },
   "outputs": [],
   "source": [
    "V_train = to_matrix(train_data,matrix)"
   ]
  },
  {
   "cell_type": "code",
   "execution_count": 16,
   "metadata": {
    "collapsed": false
   },
   "outputs": [],
   "source": [
    "V_test = to_matrix(test_data, matrix)"
   ]
  },
  {
   "cell_type": "code",
   "execution_count": null,
   "metadata": {
    "collapsed": false
   },
   "outputs": [],
   "source": []
  },
  {
   "cell_type": "code",
   "execution_count": null,
   "metadata": {
    "collapsed": false
   },
   "outputs": [],
   "source": []
  },
  {
   "cell_type": "code",
   "execution_count": 74,
   "metadata": {
    "collapsed": false
   },
   "outputs": [],
   "source": [
    "def indicate(matrix):\n",
    "    index_row,index_col = np.nonzero(matrix)\n",
    "    M = np.zeros(matrix.shape)\n",
    "    for i in range(len(index_row)):\n",
    "        M[index_row[i]][index_col[i]] = 1\n",
    "    return M\n",
    "def normalization(matrix, max_rating ):\n",
    "    matrix +=1\n",
    "    matrix[matrix>max_rating+1] = max_rating\n",
    "    matrix[matrix<1] = 1\n",
    "    matrix[matrix<0] = 1\n",
    "    return matrix\n",
    "def SVD_incremental(V_train,feature_number,iteration_number,regu = 0.001,max_rating =483, learning_rate = 0.006):\n",
    "    n,m = V_train.shape\n",
    "    U = np.ones((n, feature_number))*0.01\n",
    "    M = np.ones((m, feature_number))*0.01\n",
    "    I = indicate(V_train)\n",
    "    for i in range(iteration_number):\n",
    "        MUL = np.dot(U,M.T)\n",
    "        MUL = normalization(MUL, max_rating)\n",
    "        tmp = np.multiply((V_train - MUL),I)\n",
    "        delta_U = []\n",
    "        delta_M = []\n",
    "        for i in range(n):\n",
    "            delta_U.append(np.sum(tmp[i]*M.T,axis=1))\n",
    "        delta_U= np.array(delta_U) - regu*U\n",
    "\n",
    "        for i in range(m):\n",
    "            delta_M.append(np.sum(tmp.T[i]*U.T,axis=1))\n",
    "        delta_M= np.array(delta_M) - regu*M\n",
    "        \n",
    "        \n",
    "        U = U + delta_U*learning_rate\n",
    "        M = M + delta_M *learning_rate\n",
    "        print error(V_train,U,M,I,regu)\n",
    "    return U,M"
   ]
  },
  {
   "cell_type": "code",
   "execution_count": 75,
   "metadata": {
    "collapsed": false
   },
   "outputs": [
    {
     "ename": "ValueError",
     "evalue": "The truth value of an array with more than one element is ambiguous. Use a.any() or a.all()",
     "output_type": "error",
     "traceback": [
      "\u001b[0;31m---------------------------------------------------------------------------\u001b[0m",
      "\u001b[0;31mValueError\u001b[0m                                Traceback (most recent call last)",
      "\u001b[0;32m<ipython-input-75-bc69cebc4696>\u001b[0m in \u001b[0;36m<module>\u001b[0;34m()\u001b[0m\n\u001b[0;32m----> 1\u001b[0;31m \u001b[0mSVD_incremental\u001b[0m\u001b[0;34m(\u001b[0m\u001b[0mV_train\u001b[0m\u001b[0;34m,\u001b[0m\u001b[0mfeature_number\u001b[0m\u001b[0;34m=\u001b[0m\u001b[0;36m10\u001b[0m\u001b[0;34m,\u001b[0m\u001b[0miteration_number\u001b[0m\u001b[0;34m=\u001b[0m\u001b[0;36m100\u001b[0m\u001b[0;34m)\u001b[0m\u001b[0;34m\u001b[0m\u001b[0m\n\u001b[0m",
      "\u001b[0;32m<ipython-input-74-e71634c7a827>\u001b[0m in \u001b[0;36mSVD_incremental\u001b[0;34m(V_train, feature_number, iteration_number, regu, max_rating, learning_rate)\u001b[0m\n\u001b[1;32m     17\u001b[0m     \u001b[0;32mfor\u001b[0m \u001b[0mi\u001b[0m \u001b[0;32min\u001b[0m \u001b[0mrange\u001b[0m\u001b[0;34m(\u001b[0m\u001b[0miteration_number\u001b[0m\u001b[0;34m)\u001b[0m\u001b[0;34m:\u001b[0m\u001b[0;34m\u001b[0m\u001b[0m\n\u001b[1;32m     18\u001b[0m         \u001b[0mMUL\u001b[0m \u001b[0;34m=\u001b[0m \u001b[0mnp\u001b[0m\u001b[0;34m.\u001b[0m\u001b[0mdot\u001b[0m\u001b[0;34m(\u001b[0m\u001b[0mU\u001b[0m\u001b[0;34m,\u001b[0m\u001b[0mM\u001b[0m\u001b[0;34m.\u001b[0m\u001b[0mT\u001b[0m\u001b[0;34m)\u001b[0m\u001b[0;34m\u001b[0m\u001b[0m\n\u001b[0;32m---> 19\u001b[0;31m         \u001b[0mMUL\u001b[0m \u001b[0;34m=\u001b[0m \u001b[0mnormalization\u001b[0m\u001b[0;34m(\u001b[0m\u001b[0mMUL\u001b[0m\u001b[0;34m,\u001b[0m \u001b[0mmax_rating\u001b[0m\u001b[0;34m)\u001b[0m\u001b[0;34m\u001b[0m\u001b[0m\n\u001b[0m\u001b[1;32m     20\u001b[0m         \u001b[0mtmp\u001b[0m \u001b[0;34m=\u001b[0m \u001b[0mnp\u001b[0m\u001b[0;34m.\u001b[0m\u001b[0mmultiply\u001b[0m\u001b[0;34m(\u001b[0m\u001b[0;34m(\u001b[0m\u001b[0mV_train\u001b[0m \u001b[0;34m-\u001b[0m \u001b[0mMUL\u001b[0m\u001b[0;34m)\u001b[0m\u001b[0;34m,\u001b[0m\u001b[0mI\u001b[0m\u001b[0;34m)\u001b[0m\u001b[0;34m\u001b[0m\u001b[0m\n\u001b[1;32m     21\u001b[0m         \u001b[0mdelta_U\u001b[0m \u001b[0;34m=\u001b[0m \u001b[0;34m[\u001b[0m\u001b[0;34m]\u001b[0m\u001b[0;34m\u001b[0m\u001b[0m\n",
      "\u001b[0;32m<ipython-input-74-e71634c7a827>\u001b[0m in \u001b[0;36mnormalization\u001b[0;34m(matrix, max_rating)\u001b[0m\n\u001b[1;32m      7\u001b[0m \u001b[0;32mdef\u001b[0m \u001b[0mnormalization\u001b[0m\u001b[0;34m(\u001b[0m\u001b[0mmatrix\u001b[0m\u001b[0;34m,\u001b[0m \u001b[0mmax_rating\u001b[0m \u001b[0;34m)\u001b[0m\u001b[0;34m:\u001b[0m\u001b[0;34m\u001b[0m\u001b[0m\n\u001b[1;32m      8\u001b[0m     \u001b[0mmatrix\u001b[0m\u001b[0;34m[\u001b[0m\u001b[0mmatrix\u001b[0m\u001b[0;34m<\u001b[0m\u001b[0;36m0\u001b[0m\u001b[0;34m]\u001b[0m \u001b[0;34m=\u001b[0m \u001b[0;36m1\u001b[0m\u001b[0;34m\u001b[0m\u001b[0m\n\u001b[0;32m----> 9\u001b[0;31m     \u001b[0mmatrix\u001b[0m\u001b[0;34m[\u001b[0m\u001b[0mnp\u001b[0m\u001b[0;34m.\u001b[0m\u001b[0mwhere\u001b[0m\u001b[0;34m(\u001b[0m\u001b[0mmatrix\u001b[0m\u001b[0;34m<=\u001b[0m\u001b[0mmax_rating\u001b[0m \u001b[0;32mand\u001b[0m \u001b[0mmatrix\u001b[0m\u001b[0;34m>=\u001b[0m\u001b[0;36m0\u001b[0m\u001b[0;34m)\u001b[0m\u001b[0;34m]\u001b[0m \u001b[0;34m+=\u001b[0m\u001b[0;36m1\u001b[0m\u001b[0;34m\u001b[0m\u001b[0m\n\u001b[0m\u001b[1;32m     10\u001b[0m     \u001b[0mmatrix\u001b[0m\u001b[0;34m[\u001b[0m\u001b[0mmatrix\u001b[0m\u001b[0;34m>\u001b[0m\u001b[0mmax_rating\u001b[0m\u001b[0;34m]\u001b[0m \u001b[0;34m=\u001b[0m \u001b[0mmax_rating\u001b[0m\u001b[0;34m\u001b[0m\u001b[0m\n\u001b[1;32m     11\u001b[0m     \u001b[0;32mreturn\u001b[0m \u001b[0mmatrix\u001b[0m\u001b[0;34m\u001b[0m\u001b[0m\n",
      "\u001b[0;31mValueError\u001b[0m: The truth value of an array with more than one element is ambiguous. Use a.any() or a.all()"
     ]
    }
   ],
   "source": [
    "SVD_incremental(V_train,feature_number=10,iteration_number=100)"
   ]
  },
  {
   "cell_type": "code",
   "execution_count": 47,
   "metadata": {
    "collapsed": false
   },
   "outputs": [],
   "source": [
    "def error(V_train, U,M,I,regu):\n",
    "    MUL = V_train-np.dot(U,M.T)\n",
    "    error = np.sum(I*(MUL**2))\n",
    "    error = error \n",
    "    error = error * 0.5\n",
    "    return error "
   ]
  },
  {
   "cell_type": "code",
   "execution_count": 70,
   "metadata": {
    "collapsed": false
   },
   "outputs": [
    {
     "data": {
      "text/plain": [
       "(5, 4)"
      ]
     },
     "execution_count": 70,
     "metadata": {},
     "output_type": "execute_result"
    }
   ],
   "source": [
    "v= np.array([[1,3,2,0],[3,1,5,0],[4,5,3,7],[0,2,3,0],[0,0,4,0]])\n",
    "v.shape"
   ]
  },
  {
   "cell_type": "code",
   "execution_count": 43,
   "metadata": {
    "collapsed": false
   },
   "outputs": [
    {
     "ename": "KeyboardInterrupt",
     "evalue": "",
     "output_type": "error",
     "traceback": [
      "\u001b[0;31m---------------------------------------------------------------------------\u001b[0m",
      "\u001b[0;31mKeyboardInterrupt\u001b[0m                         Traceback (most recent call last)",
      "\u001b[0;31mKeyboardInterrupt\u001b[0m: "
     ]
    }
   ],
   "source": [
    "SVD_incremental(V_train,feature_number=3,iteration_number=10)"
   ]
  },
  {
   "cell_type": "code",
   "execution_count": null,
   "metadata": {
    "collapsed": false
   },
   "outputs": [],
   "source": []
  },
  {
   "cell_type": "code",
   "execution_count": null,
   "metadata": {
    "collapsed": true
   },
   "outputs": [],
   "source": []
  }
 ],
 "metadata": {
  "anaconda-cloud": {},
  "kernelspec": {
   "display_name": "Python [conda root]",
   "language": "python",
   "name": "conda-root-py"
  },
  "language_info": {
   "codemirror_mode": {
    "name": "ipython",
    "version": 2
   },
   "file_extension": ".py",
   "mimetype": "text/x-python",
   "name": "python",
   "nbconvert_exporter": "python",
   "pygments_lexer": "ipython2",
   "version": "2.7.12"
  }
 },
 "nbformat": 4,
 "nbformat_minor": 1
}
